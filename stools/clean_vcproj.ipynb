{
 "cells": [
  {
   "cell_type": "code",
   "execution_count": 3,
   "id": "42bf294e",
   "metadata": {},
   "outputs": [],
   "source": [
    "from pathlib import Path"
   ]
  },
  {
   "cell_type": "code",
   "execution_count": 26,
   "id": "b2470d07",
   "metadata": {},
   "outputs": [
    {
     "data": {
      "text/plain": [
       "'c:\\\\src\\\\surun\\\\stools'"
      ]
     },
     "execution_count": 26,
     "metadata": {},
     "output_type": "execute_result"
    }
   ],
   "source": [
    "import os\n",
    "cwd = os.getcwd()\n",
    "cwd"
   ]
  },
  {
   "cell_type": "code",
   "execution_count": 5,
   "id": "a7a4e1b6",
   "metadata": {},
   "outputs": [],
   "source": [
    "proj_root = Path(cwd).resolve().parent"
   ]
  },
  {
   "cell_type": "code",
   "execution_count": 7,
   "id": "360f4306",
   "metadata": {},
   "outputs": [
    {
     "data": {
      "text/plain": [
       "WindowsPath('C:/src/surun')"
      ]
     },
     "execution_count": 7,
     "metadata": {},
     "output_type": "execute_result"
    }
   ],
   "source": [
    "proj_root"
   ]
  },
  {
   "cell_type": "code",
   "execution_count": null,
   "id": "7412364f",
   "metadata": {},
   "outputs": [],
   "source": [
    "import glob"
   ]
  },
  {
   "cell_type": "code",
   "execution_count": 18,
   "id": "e742b9b7",
   "metadata": {},
   "outputs": [],
   "source": [
    "def glob_all(*args):\n",
    "    ret = []\n",
    "    for i in args:\n",
    "        vcfiles = glob.glob(\"**/\"+i, root_dir=proj_root, recursive=True)\n",
    "        vcfiles = list(vcfiles)\n",
    "        ret.extend(vcfiles)\n",
    "    return ret"
   ]
  },
  {
   "cell_type": "code",
   "execution_count": 27,
   "id": "22f2d956",
   "metadata": {},
   "outputs": [
    {
     "data": {
      "text/plain": [
       "[]"
      ]
     },
     "execution_count": 27,
     "metadata": {},
     "output_type": "execute_result"
    }
   ],
   "source": [
    "\n",
    "vcfiles = glob.glob(\"*.vcproj\", root_dir=proj_root, recursive=True)\n",
    "vcfiles = list(vcfiles)\n",
    "vcfiles"
   ]
  },
  {
   "cell_type": "code",
   "execution_count": 28,
   "id": "ae1040a5",
   "metadata": {},
   "outputs": [
    {
     "data": {
      "text/plain": [
       "[]"
      ]
     },
     "execution_count": 28,
     "metadata": {},
     "output_type": "execute_result"
    }
   ],
   "source": [
    "glob_all(\"*.vcproj\", \"*.mak\", \"*.dsp\", \"*.dep\")"
   ]
  },
  {
   "cell_type": "code",
   "execution_count": 23,
   "id": "127cca9f",
   "metadata": {},
   "outputs": [],
   "source": [
    "def remove_files(globbed_files: list[str]):\n",
    "    for file in globbed_files:\n",
    "        p = proj_root.joinpath(file)\n",
    "        p.unlink()"
   ]
  },
  {
   "cell_type": "code",
   "execution_count": 24,
   "id": "56d92d01",
   "metadata": {},
   "outputs": [],
   "source": [
    "remove_files(glob_all(\"*.vcproj\", \"*.mak\", \"*.dsp\", \"*.dep\"))"
   ]
  },
  {
   "cell_type": "code",
   "execution_count": null,
   "id": "ab47ba70",
   "metadata": {},
   "outputs": [],
   "source": []
  }
 ],
 "metadata": {
  "kernelspec": {
   "display_name": ".venv",
   "language": "python",
   "name": "python3"
  },
  "language_info": {
   "codemirror_mode": {
    "name": "ipython",
    "version": 3
   },
   "file_extension": ".py",
   "mimetype": "text/x-python",
   "name": "python",
   "nbconvert_exporter": "python",
   "pygments_lexer": "ipython3",
   "version": "3.13.1"
  }
 },
 "nbformat": 4,
 "nbformat_minor": 5
}
