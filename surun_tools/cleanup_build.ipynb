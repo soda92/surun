{
 "cells": [
  {
   "cell_type": "code",
   "execution_count": 1,
   "id": "7f5b552b",
   "metadata": {},
   "outputs": [],
   "source": [
    "from surun_tools.glob1 import glob_dirs, rm_dirs, glob_files"
   ]
  },
  {
   "cell_type": "code",
   "execution_count": 2,
   "id": "eea78545",
   "metadata": {},
   "outputs": [
    {
     "data": {
      "text/plain": [
       "[WindowsPath('C:/src/surun/DebugU'),\n",
       " WindowsPath('C:/src/surun/PC/DebugU'),\n",
       " WindowsPath('C:/src/surun/PC/DebugUsr32'),\n",
       " WindowsPath('C:/src/surun/DebugUx64'),\n",
       " WindowsPath('C:/src/surun/PC/DebugUx64'),\n",
       " WindowsPath('C:/src/surun/PC/x64'),\n",
       " WindowsPath('C:/src/surun/tests/TestScreenshot/x64'),\n",
       " WindowsPath('C:/src/surun/tests/TestScreenshotSuRun/x64'),\n",
       " WindowsPath('C:/src/surun/PC/x64/x64 Unicode Debug'),\n",
       " WindowsPath('C:/src/surun/PC/Debug'),\n",
       " WindowsPath('C:/src/surun/PC/x64/Debug'),\n",
       " WindowsPath('C:/src/surun/tests/TestScreenshot/x64/Debug'),\n",
       " WindowsPath('C:/src/surun/tests/TestScreenshotSuRun/x64/Debug'),\n",
       " WindowsPath('C:/src/surun/PC/Release'),\n",
       " WindowsPath('C:/src/surun/tests/TestScreenshot/Release'),\n",
       " WindowsPath('C:/src/surun/tests/TestScreenshotSuRun/Release')]"
      ]
     },
     "execution_count": 2,
     "metadata": {},
     "output_type": "execute_result"
    }
   ],
   "source": [
    "a = glob_dirs(\"DebugU\", \"DebugUsr32\", \"DebugUx64\", \"ReleaseU\", \"ReleaseUsr32\", \"ReleaseUx64\", \"x64\", \"x64 Unicode Debug\", \"Debug\", \"Release\")\n",
    "a"
   ]
  },
  {
   "cell_type": "code",
   "execution_count": 3,
   "id": "240b3ad0",
   "metadata": {},
   "outputs": [
    {
     "ename": "FileNotFoundError",
     "evalue": "[WinError 3] The system cannot find the path specified: 'C:/src/surun/PC/x64/x64 Unicode Debug'",
     "output_type": "error",
     "traceback": [
      "\u001b[31m---------------------------------------------------------------------------\u001b[39m",
      "\u001b[31mFileNotFoundError\u001b[39m                         Traceback (most recent call last)",
      "\u001b[36mCell\u001b[39m\u001b[36m \u001b[39m\u001b[32mIn[3]\u001b[39m\u001b[32m, line 1\u001b[39m\n\u001b[32m----> \u001b[39m\u001b[32m1\u001b[39m \u001b[43mrm_dirs\u001b[49m\u001b[43m(\u001b[49m\u001b[43ma\u001b[49m\u001b[43m)\u001b[49m\n",
      "\u001b[36mFile \u001b[39m\u001b[32mC:\\src\\surun\\surun_tools\\glob1.py:34\u001b[39m, in \u001b[36mrm_dirs\u001b[39m\u001b[34m(*args)\u001b[39m\n\u001b[32m     32\u001b[39m     \u001b[38;5;28;01mfor\u001b[39;00m \u001b[38;5;28mdir\u001b[39m \u001b[38;5;129;01min\u001b[39;00m d:\n\u001b[32m     33\u001b[39m         \u001b[38;5;28mdir\u001b[39m = str_path(\u001b[38;5;28mdir\u001b[39m)\n\u001b[32m---> \u001b[39m\u001b[32m34\u001b[39m         \u001b[43mshutil\u001b[49m\u001b[43m.\u001b[49m\u001b[43mrmtree\u001b[49m\u001b[43m(\u001b[49m\u001b[38;5;28;43mdir\u001b[39;49m\u001b[43m)\u001b[49m\n\u001b[32m     35\u001b[39m \u001b[38;5;28;01melif\u001b[39;00m \u001b[38;5;28misinstance\u001b[39m(d, \u001b[38;5;28mstr\u001b[39m):\n\u001b[32m     36\u001b[39m     shutil.rmtree(d)\n",
      "\u001b[36mFile \u001b[39m\u001b[32m~\\scoop\\apps\\python\\current\\Lib\\shutil.py:780\u001b[39m, in \u001b[36mrmtree\u001b[39m\u001b[34m(path, ignore_errors, onerror, onexc, dir_fd)\u001b[39m\n\u001b[32m    778\u001b[39m     st = os.lstat(path)\n\u001b[32m    779\u001b[39m \u001b[38;5;28;01mexcept\u001b[39;00m \u001b[38;5;167;01mOSError\u001b[39;00m \u001b[38;5;28;01mas\u001b[39;00m err:\n\u001b[32m--> \u001b[39m\u001b[32m780\u001b[39m     \u001b[43monexc\u001b[49m\u001b[43m(\u001b[49m\u001b[43mos\u001b[49m\u001b[43m.\u001b[49m\u001b[43mlstat\u001b[49m\u001b[43m,\u001b[49m\u001b[43m \u001b[49m\u001b[43mpath\u001b[49m\u001b[43m,\u001b[49m\u001b[43m \u001b[49m\u001b[43merr\u001b[49m\u001b[43m)\u001b[49m\n\u001b[32m    781\u001b[39m     \u001b[38;5;28;01mreturn\u001b[39;00m\n\u001b[32m    782\u001b[39m \u001b[38;5;28;01mtry\u001b[39;00m:\n",
      "\u001b[36mFile \u001b[39m\u001b[32m~\\scoop\\apps\\python\\current\\Lib\\shutil.py:778\u001b[39m, in \u001b[36mrmtree\u001b[39m\u001b[34m(path, ignore_errors, onerror, onexc, dir_fd)\u001b[39m\n\u001b[32m    776\u001b[39m     \u001b[38;5;28;01mraise\u001b[39;00m \u001b[38;5;167;01mNotImplementedError\u001b[39;00m(\u001b[33m\"\u001b[39m\u001b[33mdir_fd unavailable on this platform\u001b[39m\u001b[33m\"\u001b[39m)\n\u001b[32m    777\u001b[39m \u001b[38;5;28;01mtry\u001b[39;00m:\n\u001b[32m--> \u001b[39m\u001b[32m778\u001b[39m     st = \u001b[43mos\u001b[49m\u001b[43m.\u001b[49m\u001b[43mlstat\u001b[49m\u001b[43m(\u001b[49m\u001b[43mpath\u001b[49m\u001b[43m)\u001b[49m\n\u001b[32m    779\u001b[39m \u001b[38;5;28;01mexcept\u001b[39;00m \u001b[38;5;167;01mOSError\u001b[39;00m \u001b[38;5;28;01mas\u001b[39;00m err:\n\u001b[32m    780\u001b[39m     onexc(os.lstat, path, err)\n",
      "\u001b[31mFileNotFoundError\u001b[39m: [WinError 3] The system cannot find the path specified: 'C:/src/surun/PC/x64/x64 Unicode Debug'"
     ]
    }
   ],
   "source": [
    "rm_dirs(a)"
   ]
  },
  {
   "cell_type": "code",
   "execution_count": 5,
   "id": "a4027526",
   "metadata": {},
   "outputs": [
    {
     "data": {
      "text/plain": [
       "[]"
      ]
     },
     "execution_count": 5,
     "metadata": {},
     "output_type": "execute_result"
    }
   ],
   "source": [
    "glob_files(\"*.ico~\", \"*.kra~\")"
   ]
  },
  {
   "cell_type": "code",
   "execution_count": 4,
   "id": "0977ac80",
   "metadata": {},
   "outputs": [],
   "source": [
    "for i in glob_files(\"*.ico~\", \"*.kra~\"):\n",
    "    i.unlink()"
   ]
  },
  {
   "cell_type": "code",
   "execution_count": null,
   "id": "6307909e",
   "metadata": {},
   "outputs": [],
   "source": []
  }
 ],
 "metadata": {
  "kernelspec": {
   "display_name": ".venv",
   "language": "python",
   "name": "python3"
  },
  "language_info": {
   "codemirror_mode": {
    "name": "ipython",
    "version": 3
   },
   "file_extension": ".py",
   "mimetype": "text/x-python",
   "name": "python",
   "nbconvert_exporter": "python",
   "pygments_lexer": "ipython3",
   "version": "3.13.1"
  }
 },
 "nbformat": 4,
 "nbformat_minor": 5
}
