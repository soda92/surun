{
 "cells": [
  {
   "cell_type": "code",
   "execution_count": 1,
   "id": "7f5b552b",
   "metadata": {},
   "outputs": [],
   "source": [
    "from surun_tools.glob1 import glob_dirs, rm_dirs, glob_files"
   ]
  },
  {
   "cell_type": "code",
   "execution_count": 8,
   "id": "eea78545",
   "metadata": {},
   "outputs": [
    {
     "data": {
      "text/plain": [
       "[]"
      ]
     },
     "execution_count": 8,
     "metadata": {},
     "output_type": "execute_result"
    }
   ],
   "source": [
    "a = glob_dirs(\"DebugU\", \"DebugUsr32\", \"DebugUx64\", \"ReleaseU\", \"ReleaseUsr32\", \"ReleaseUx64\", \"x64\", \"x64 Unicode Debug\", \"Debug\", \"Release\")\n",
    "a"
   ]
  },
  {
   "cell_type": "code",
   "execution_count": 7,
   "id": "240b3ad0",
   "metadata": {},
   "outputs": [],
   "source": [
    "rm_dirs(a)"
   ]
  },
  {
   "cell_type": "code",
   "execution_count": 5,
   "id": "a4027526",
   "metadata": {},
   "outputs": [
    {
     "data": {
      "text/plain": [
       "[]"
      ]
     },
     "execution_count": 5,
     "metadata": {},
     "output_type": "execute_result"
    }
   ],
   "source": [
    "glob_files(\"*.ico~\", \"*.kra~\")"
   ]
  },
  {
   "cell_type": "code",
   "execution_count": 4,
   "id": "0977ac80",
   "metadata": {},
   "outputs": [],
   "source": [
    "for i in glob_files(\"*.ico~\", \"*.kra~\"):\n",
    "    i.unlink()"
   ]
  },
  {
   "cell_type": "code",
   "execution_count": null,
   "id": "6307909e",
   "metadata": {},
   "outputs": [],
   "source": []
  }
 ],
 "metadata": {
  "kernelspec": {
   "display_name": ".venv",
   "language": "python",
   "name": "python3"
  },
  "language_info": {
   "codemirror_mode": {
    "name": "ipython",
    "version": 3
   },
   "file_extension": ".py",
   "mimetype": "text/x-python",
   "name": "python",
   "nbconvert_exporter": "python",
   "pygments_lexer": "ipython3",
   "version": "3.13.1"
  }
 },
 "nbformat": 4,
 "nbformat_minor": 5
}
