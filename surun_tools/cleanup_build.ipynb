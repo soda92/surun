{
 "cells": [
  {
   "cell_type": "code",
   "execution_count": 1,
   "id": "7f5b552b",
   "metadata": {},
   "outputs": [],
   "source": [
    "from surun_tools.glob1 import glob_dirs, rm_dirs, glob_files"
   ]
  },
  {
   "cell_type": "code",
   "execution_count": 2,
   "id": "eea78545",
   "metadata": {},
   "outputs": [
    {
     "data": {
      "text/plain": [
       "[WindowsPath('C:/src/surun/src/PC/DebugUsr32'),\n",
       " WindowsPath('C:/src/surun/src/PC/DebugUx64'),\n",
       " WindowsPath('C:/src/surun/src/PC/x64'),\n",
       " WindowsPath('C:/src/surun/src/PC/InstallSuRun/x64'),\n",
       " WindowsPath('C:/src/surun/src/PC/packages/Microsoft.googletest.v140.windesktop.msvcstl.static.rt-dyn.1.8.1.7/lib/native/v140/windesktop/msvcstl/static/rt-dyn/x64'),\n",
       " WindowsPath('C:/src/surun/src/PC/SuRun/x64'),\n",
       " WindowsPath('C:/src/surun/tests/TestScreenshot/x64'),\n",
       " WindowsPath('C:/src/surun/tests/TestScreenshotSuRun/x64'),\n",
       " WindowsPath('C:/src/surun/src/PC/Debug'),\n",
       " WindowsPath('C:/src/surun/src/PC/InstallSuRun/x64/Debug'),\n",
       " WindowsPath('C:/src/surun/src/PC/packages/Microsoft.googletest.v140.windesktop.msvcstl.static.rt-dyn.1.8.1.7/lib/native/v140/windesktop/msvcstl/static/rt-dyn/arm64/Debug'),\n",
       " WindowsPath('C:/src/surun/src/PC/packages/Microsoft.googletest.v140.windesktop.msvcstl.static.rt-dyn.1.8.1.7/lib/native/v140/windesktop/msvcstl/static/rt-dyn/x64/Debug'),\n",
       " WindowsPath('C:/src/surun/src/PC/packages/Microsoft.googletest.v140.windesktop.msvcstl.static.rt-dyn.1.8.1.7/lib/native/v140/windesktop/msvcstl/static/rt-dyn/x86/Debug'),\n",
       " WindowsPath('C:/src/surun/src/PC/x64/Debug'),\n",
       " WindowsPath('C:/src/surun/tests/TestScreenshot/x64/Debug'),\n",
       " WindowsPath('C:/src/surun/tests/TestScreenshotSuRun/x64/Debug'),\n",
       " WindowsPath('C:/src/surun/src/PC/Release'),\n",
       " WindowsPath('C:/src/surun/src/PC/packages/Microsoft.googletest.v140.windesktop.msvcstl.static.rt-dyn.1.8.1.7/lib/native/v140/windesktop/msvcstl/static/rt-dyn/arm64/Release'),\n",
       " WindowsPath('C:/src/surun/src/PC/packages/Microsoft.googletest.v140.windesktop.msvcstl.static.rt-dyn.1.8.1.7/lib/native/v140/windesktop/msvcstl/static/rt-dyn/x64/Release'),\n",
       " WindowsPath('C:/src/surun/src/PC/packages/Microsoft.googletest.v140.windesktop.msvcstl.static.rt-dyn.1.8.1.7/lib/native/v140/windesktop/msvcstl/static/rt-dyn/x86/Release'),\n",
       " WindowsPath('C:/src/surun/tests/TestScreenshot/Release'),\n",
       " WindowsPath('C:/src/surun/tests/TestScreenshot/x64/Release'),\n",
       " WindowsPath('C:/src/surun/tests/TestScreenshotSuRun/Release'),\n",
       " WindowsPath('C:/src/surun/tests/TestScreenshotSuRun/x64/Release')]"
      ]
     },
     "execution_count": 2,
     "metadata": {},
     "output_type": "execute_result"
    }
   ],
   "source": [
    "a = glob_dirs(\"DebugU\", \"DebugUsr32\", \"DebugUx64\", \"ReleaseU\", \"ReleaseUsr32\", \"ReleaseUx64\", \"x64\", \"x64 Unicode Debug\", \"Debug\", \"Release\")\n",
    "a"
   ]
  },
  {
   "cell_type": "code",
   "execution_count": 3,
   "id": "240b3ad0",
   "metadata": {},
   "outputs": [
    {
     "name": "stdout",
     "output_type": "stream",
     "text": [
      "[WinError 3] The system cannot find the path specified: 'C:/src/surun/src/PC/InstallSuRun/x64/Debug'\n",
      "[WinError 3] The system cannot find the path specified: 'C:/src/surun/src/PC/packages/Microsoft.googletest.v140.windesktop.msvcstl.static.rt-dyn.1.8.1.7/lib/native/v140/windesktop/msvcstl/static/rt-dyn/x64/Debug'\n",
      "[WinError 3] The system cannot find the path specified: 'C:/src/surun/src/PC/x64/Debug'\n",
      "[WinError 3] The system cannot find the path specified: 'C:/src/surun/tests/TestScreenshot/x64/Debug'\n",
      "[WinError 3] The system cannot find the path specified: 'C:/src/surun/tests/TestScreenshotSuRun/x64/Debug'\n",
      "[WinError 3] The system cannot find the path specified: 'C:/src/surun/src/PC/packages/Microsoft.googletest.v140.windesktop.msvcstl.static.rt-dyn.1.8.1.7/lib/native/v140/windesktop/msvcstl/static/rt-dyn/x64/Release'\n",
      "[WinError 3] The system cannot find the path specified: 'C:/src/surun/tests/TestScreenshot/x64/Release'\n",
      "[WinError 3] The system cannot find the path specified: 'C:/src/surun/tests/TestScreenshotSuRun/x64/Release'\n"
     ]
    }
   ],
   "source": [
    "rm_dirs(a)"
   ]
  },
  {
   "cell_type": "code",
   "execution_count": 5,
   "id": "a4027526",
   "metadata": {},
   "outputs": [
    {
     "data": {
      "text/plain": [
       "[]"
      ]
     },
     "execution_count": 5,
     "metadata": {},
     "output_type": "execute_result"
    }
   ],
   "source": [
    "glob_files(\"*.ico~\", \"*.kra~\")"
   ]
  },
  {
   "cell_type": "code",
   "execution_count": 4,
   "id": "0977ac80",
   "metadata": {},
   "outputs": [],
   "source": [
    "for i in glob_files(\"*.ico~\", \"*.kra~\"):\n",
    "    i.unlink()"
   ]
  },
  {
   "cell_type": "code",
   "execution_count": null,
   "id": "6307909e",
   "metadata": {},
   "outputs": [],
   "source": []
  }
 ],
 "metadata": {
  "kernelspec": {
   "display_name": ".venv",
   "language": "python",
   "name": "python3"
  },
  "language_info": {
   "codemirror_mode": {
    "name": "ipython",
    "version": 3
   },
   "file_extension": ".py",
   "mimetype": "text/x-python",
   "name": "python",
   "nbconvert_exporter": "python",
   "pygments_lexer": "ipython3",
   "version": "3.13.1"
  }
 },
 "nbformat": 4,
 "nbformat_minor": 5
}
