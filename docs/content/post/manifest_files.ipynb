{
  "cells": [
    {
      "cell_type": "markdown",
      "id": "ec2a032c",
      "metadata": {},
      "source": [
        "---\n",
        "date: 2025-05-01T00:58:19+08:00\n",
        "title: Manifest_Files\n",
        "---"
      ]
    },
    {
      "cell_type": "markdown",
      "id": "27bd1942",
      "metadata": {},
      "source": [
        "# About manifest files"
      ]
    },
    {
      "cell_type": "markdown",
      "id": "659904d9",
      "metadata": {},
      "source": [
        "[reference docs][1]\n",
        "\n",
        "[1]: https://learn.microsoft.com/en-us/windows/win32/sbscs/application-manifests"
      ]
    },
    {
      "cell_type": "code",
      "execution_count": 2,
      "id": "56b24f93",
      "metadata": {},
      "outputs": [
        {
          "name": "stdout",
          "output_type": "stream",
          "text": [
            "C:\\src\\surun\\install_surun\\app.manifest\n",
            "C:\\src\\surun\\resources\\app.manifest\n",
            "C:\\src\\surun\\surun_com\\resources\\app.manifest\n",
            "C:\\src\\surun\\tests\\TestScreenshot\\app.manifest\n"
          ]
        }
      ],
      "source": [
        "from surun_tools.glob1 import glob_files\n",
        "for i in glob_files(\"*.manifest\"):\n",
        "    print(i)"
      ]
    },
    {
      "cell_type": "markdown",
      "id": "09f49538",
      "metadata": {},
      "source": [
        "An application manifest (also known as a side-by-side application manifest, or a fusion manifest) is an XML file that describes and identifies the shared and private side-by-side assemblies that an application should bind to at run time. These should be the same assembly versions that were used to test the application. Application manifests might also describe metadata for files that are private to the application."
      ]
    },
    {
      "cell_type": "markdown",
      "id": "8e0a3ddc",
      "metadata": {},
      "source": [
        "also see: [dotnet docs][2]\n",
        "\n",
        "Every assembly, whether static or dynamic, contains a collection of data that describes how the elements in the assembly relate to each other. The assembly manifest contains this assembly metadata. An assembly manifest contains all the metadata needed to specify the assembly's version requirements and security identity, and all metadata needed to define the scope of the assembly and resolve references to resources and classes. The assembly manifest can be stored in either a PE file (an .exe or .dll) with common intermediate language (CIL) code or in a standalone PE file that contains only assembly manifest information.\n",
        "\n",
        "[2]: https://learn.microsoft.com/en-us/dotnet/standard/assembly/manifest"
      ]
    },
    {
      "cell_type": "markdown",
      "id": "c559e68c",
      "metadata": {},
      "source": [
        "## To learn"
      ]
    },
    {
      "cell_type": "markdown",
      "id": "04eb0f72",
      "metadata": {},
      "source": [
        "Seems that this is a technology to address the DLL hell problem.\n",
        "\n",
        "https://learn.microsoft.com/en-us/windows/win32/dlls/dynamic-link-library-redirection"
      ]
    },
    {
      "cell_type": "markdown",
      "id": "ea64458d",
      "metadata": {},
      "source": []
    }
  ],
  "metadata": {
    "kernelspec": {
      "display_name": ".venv",
      "language": "python",
      "name": "python3"
    },
    "language_info": {
      "codemirror_mode": {
        "name": "ipython",
        "version": 3
      },
      "file_extension": ".py",
      "mimetype": "text/x-python",
      "name": "python",
      "nbconvert_exporter": "python",
      "pygments_lexer": "ipython3",
      "version": "3.13.1"
    }
  },
  "nbformat": 4,
  "nbformat_minor": 5
}