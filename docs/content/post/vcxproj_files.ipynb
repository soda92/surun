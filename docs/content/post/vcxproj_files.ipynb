{
  "cells": [
    {
      "cell_type": "markdown",
      "id": "ec2a032c",
      "metadata": {},
      "source": [
        "---\n",
        "date: 2025-05-01T01:08:21+08:00\n",
        "title: '`.vcxproj` in Visual Studio'\n",
        "---"
      ]
    },
    {
      "cell_type": "markdown",
      "id": "04583cd0",
      "metadata": {},
      "source": [
        "https://learn.microsoft.com/en-us/cpp/build/reference/vcxproj-file-structure?view=msvc-170"
      ]
    },
    {
      "cell_type": "markdown",
      "id": "43c4c8df",
      "metadata": {},
      "source": [
        "If you intend to maintain your project properties in the IDE, we recommend you only create and modify your .vcxproj projects in the IDE, and avoid manual edits to the files. In most cases, you never need to manually edit the project file. Manual edits may break the project connections required to modify project settings in the Visual Studio property pages, and can cause build errors that are difficult to debug and repair. For more information about using the property pages, see Set C++ compiler and build properties in Visual Studio."
      ]
    },
    {
      "cell_type": "code",
      "execution_count": 1,
      "id": "d06b97d6",
      "metadata": {},
      "outputs": [
        {
          "name": "stdout",
          "output_type": "stream",
          "text": [
            "C:\\src\\surun\\src\\PC\\InstallSuRunVC9.vcxproj\n",
            "C:\\src\\surun\\src\\PC\\SuRunExtVC9.vcxproj\n",
            "C:\\src\\surun\\src\\PC\\SuRunVC9.vcxproj\n",
            "C:\\src\\surun\\tests\\TestScreenshot\\TestScreenshot.vcxproj\n",
            "C:\\src\\surun\\tests\\TestScreenshotSuRun\\TestScreenshotSuRun.vcxproj\n"
          ]
        }
      ],
      "source": [
        "from surun_tools.glob1 import glob_files\n",
        "for i in glob_files(\"*.vcxproj\"):\n",
        "    print(i)"
      ]
    },
    {
      "cell_type": "markdown",
      "id": "17dbf597",
      "metadata": {},
      "source": [
        "## include files"
      ]
    },
    {
      "cell_type": "code",
      "execution_count": 2,
      "id": "23d88013",
      "metadata": {},
      "outputs": [
        {
          "name": "stdout",
          "output_type": "stream",
          "text": [
            "C:\\src\\surun\\src\\PC\\InstallSuRunVC9.vcxproj ['..\\\\install_surun\\\\InstallSuRun.cpp', '..\\\\install_surun\\\\InstallSuRun.rc', '..\\\\install_surun\\\\resource.h', '..\\\\install_surun\\\\app.manifest', '..\\\\install_surun\\\\InstSuRunVer.rc2', '..\\\\resources\\\\SuRun.ico', 'SuRunExtVC9.vcxproj', 'SuRunVC9.vcxproj']\n",
            "C:\\src\\surun\\src\\PC\\SuRunExtVC9.vcxproj ['..\\\\surun\\\\DBGTrace.cpp', '..\\\\surun\\\\DynWTSAPI.cpp', '..\\\\surun\\\\Helpers.cpp', '..\\\\surun\\\\IsAdmin.cpp', '..\\\\surun\\\\LogonDlg.cpp', '..\\\\surun\\\\LSALogon.cpp', '..\\\\surun\\\\lsa_laar.cpp', '..\\\\surun\\\\Setup.cpp', '..\\\\surun\\\\sspi_auth.cpp', '..\\\\surun\\\\UserGroups.cpp', '..\\\\surun\\\\WinStaDesk.cpp', '..\\\\surun_ext\\\\IATHook.cpp', '..\\\\surun_ext\\\\SuRunext.cpp', '..\\\\surun_ext\\\\SysMenuHook.cpp', 'SuRunExt.Def', 'SuRunExt32.Def', '..\\\\surun_ext\\\\SuRunExtVer.rc2', '..\\\\surun_ext\\\\SuRunext.rc', '..\\\\surun\\\\DynWTSAPI.h', '..\\\\surun\\\\Helpers.h', '..\\\\surun_ext\\\\IATHook.h', '..\\\\surun_ext\\\\resource.h', '..\\\\surun_ext\\\\SuRunext.h', '..\\\\surun_ext\\\\SysMenuHook.h', '..\\\\surun\\\\app.manifest', '..\\\\resources\\\\icon1.ico', '..\\\\resources\\\\Shield.ico', '..\\\\resources\\\\SuRun.ico']\n",
            "C:\\src\\surun\\src\\PC\\SuRunVC9.vcxproj ['..\\\\surun\\\\DBGTrace.cpp', '..\\\\surun\\\\DynWTSAPI.cpp', '..\\\\surun\\\\Helpers.cpp', '..\\\\surun\\\\IsAdmin.cpp', '..\\\\surun\\\\LogonDlg.cpp', '..\\\\surun\\\\LSALogon.cpp', '..\\\\surun\\\\lsa_laar.cpp', '..\\\\surun\\\\main.cpp', '..\\\\surun\\\\ReqAdmin.cpp', '..\\\\surun\\\\Service.cpp', '..\\\\surun\\\\Setup.cpp', '..\\\\surun\\\\sspi_auth.cpp', '..\\\\surun\\\\TrayMsgWnd.cpp', '..\\\\surun\\\\TrayShowAdmin.cpp', '..\\\\surun\\\\UserGroups.cpp', '..\\\\surun\\\\WatchDog.cpp', '..\\\\surun\\\\WinStaDesk.cpp', '..\\\\surun\\\\launcher.cpp', '..\\\\surun\\\\SuRun.rc', '..\\\\surun\\\\anchor.h', '..\\\\surun\\\\main.h', '..\\\\surun\\\\CmdLine.h', '..\\\\surun\\\\DBGTrace.H', '..\\\\surun\\\\DynWTSAPI.h', '..\\\\surun\\\\Helpers.h', '..\\\\surun\\\\IsAdmin.h', '..\\\\surun\\\\LogonDlg.h', '..\\\\surun\\\\LSALogon.h', '..\\\\surun\\\\lsa_laar.h', '..\\\\surun\\\\pugxml.h', '..\\\\surun\\\\ReqAdmin.h', '..\\\\surun\\\\resource.h', '..\\\\surun\\\\ResStr.h', '..\\\\surun\\\\ScreenSnap.h', '..\\\\surun\\\\Service.h', '..\\\\surun\\\\Setup.h', '..\\\\surun\\\\sspi_auth.h', '..\\\\surun\\\\SuRunVer.h', '..\\\\surun\\\\TrayMsgWnd.h', '..\\\\surun\\\\TrayShowAdmin.h', '..\\\\surun\\\\UserGroups.h', '..\\\\surun\\\\WatchDog.h', '..\\\\surun\\\\WinStaDesk.h', '..\\\\resources\\\\Admin.ico', '..\\\\resources\\\\AutoCancel.ico', '..\\\\resources\\\\CancelWindows.ico', '..\\\\resources\\\\ico10605.ico', '..\\\\resources\\\\ico10606.ico', '..\\\\resources\\\\ico10607.ico', '..\\\\resources\\\\neverquestion.ico', '..\\\\resources\\\\NoAdmin.ico', '..\\\\resources\\\\NoQuestion.ico', '..\\\\resources\\\\NoRestrict.ico', '..\\\\resources\\\\NoWindow.ico', '..\\\\resources\\\\NoWindows.ico', '..\\\\resources\\\\Question.ico', '..\\\\resources\\\\Restrict.ico', '..\\\\resources\\\\SHADMIN.ico', '..\\\\resources\\\\Shield.ico', '..\\\\resources\\\\SrAdmin.ico', '..\\\\resources\\\\SuRun.ico', '..\\\\resources\\\\SuRunBW.ico', '..\\\\resources\\\\Windows.ico', '..\\\\surun\\\\app.manifest', '..\\\\surun\\\\SuRunVer.rc2', '..\\\\docs\\\\ChangeLog.md', '..\\\\docs\\\\gpedit.md', '..\\\\ReadMe.md', 'SuRunExtVC9.vcxproj']\n",
            "C:\\src\\surun\\tests\\TestScreenshot\\TestScreenshot.vcxproj ['TestScreenshot.cpp', 'app.manifest']\n",
            "C:\\src\\surun\\tests\\TestScreenshotSuRun\\TestScreenshotSuRun.vcxproj ['main.cpp', 'Header.h']\n"
          ]
        }
      ],
      "source": [
        "for i in glob_files(\"*.vcxproj\"):\n",
        "    k = i.read_text(encoding=\"utf8\")\n",
        "    import re\n",
        "\n",
        "    result = re.findall(r\"Include=\\\"(.*)\\\"\", k)\n",
        "    result = list(filter(lambda x: \"|\" not in x, result))\n",
        "    print(i, result)"
      ]
    },
    {
      "cell_type": "code",
      "execution_count": 3,
      "id": "6a13683d",
      "metadata": {},
      "outputs": [
        {
          "name": "stdout",
          "output_type": "stream",
          "text": [
            "C:\\src\\surun\\src\\PC\\SuRunExtVC9.vcxproj SuRunExt.Def\n",
            "C:\\src\\surun\\src\\PC\\SuRunExtVC9.vcxproj SuRunExt32.Def\n"
          ]
        }
      ],
      "source": [
        "for i in glob_files(\"*.vcxproj\"):\n",
        "    k: str = i.read_text(encoding=\"utf8\")\n",
        "    import re\n",
        "\n",
        "    result = re.findall(r\"Include=\\\"(.*)\\\"\", k)\n",
        "    result = list(filter(lambda x: \"|\" not in x, result))\n",
        "    # print(i, result)\n",
        "    for r in result:\n",
        "        if k.count(r) != 1:\n",
        "            print(i, r)"
      ]
    },
    {
      "cell_type": "markdown",
      "id": "b835d177",
      "metadata": {},
      "source": [
        "## seems there are many extra paths"
      ]
    },
    {
      "cell_type": "code",
      "execution_count": 4,
      "id": "218a183b",
      "metadata": {},
      "outputs": [
        {
          "name": "stdout",
          "output_type": "stream",
          "text": [
            "C:\\src\\surun\\src\\PC\\InstallSuRunVC9.vcxproj ['.\\\\Debug\\\\', '.\\\\Debug\\\\', '..\\\\', '.\\\\Release\\\\', '.\\\\Debug/InstallSuRun.tlb', '.\\\\Debug/InstallSuRun.pch', '.\\\\Debug/', '.\\\\Debug/', '.\\\\Debug/', './InstallSuRun.exe', '.\\\\Debug/InstallSuRun.pdb', '.\\\\Debug/InstallSuRun.bsc', '.\\\\Release/InstallSuRun.tlb', '.\\\\Release/InstallSuRun.pch', '.\\\\Release/', '.\\\\Release/', '.\\\\Release/', '../InstallSuRun.exe', '.\\\\Release/InstallSuRun.pdb', '.\\\\Release/InstallSuRun.bsc', '.\\\\Debug/InstallSuRun.tlb', '.\\\\Debug/InstallSuRun.pch', '.\\\\Debug/', '.\\\\Debug/', '.\\\\Debug/', '.\\\\Debug/InstallSuRun.exe', '.\\\\Debug/InstallSuRun.pdb', '.\\\\Debug/InstallSuRun.bsc', '.\\\\Debug/InstallSuRun.tlb', '.\\\\Debug/InstallSuRun.pch', '.\\\\Debug/', '.\\\\Debug/', '.\\\\Debug/', '.\\\\Debug/InstallSuRun.exe', '.\\\\Debug/InstallSuRun.pdb', '.\\\\Debug/InstallSuRun.bsc']\n",
            "C:\\src\\surun\\src\\PC\\SuRunExtVC9.vcxproj ['.\\\\DebugU\\\\', '.\\\\DebugU\\\\', '.\\\\ReleaseU\\\\', '.\\\\ReleaseU\\\\', './ReleaseUx', './ReleaseUx', '.\\\\ReleaseUsr', '.\\\\ReleaseUsr', '.\\\\DebugUx', '.\\\\DebugUx', '.\\\\DebugUsr', '.\\\\DebugUsr', '.\\\\DebugU/SuRunExt.tlb', '.\\\\DebugU/SuRunExt.pch', '.\\\\DebugU/', '.\\\\DebugU/', '.\\\\DebugU/', '..\\\\surun', '.\\\\DebugU/SuRunExt.pdb', '.\\\\DebugU/SuRunExt.lib', '.\\\\DebugU/SuRunExt.bsc', '.\\\\ReleaseU/SuRunExt.tlb', '.\\\\ReleaseU/SuRunExt.pch', '.\\\\ReleaseU/', '.\\\\ReleaseU/', '.\\\\ReleaseU/', '../ReleaseU/SuRunExt.dll', '..\\\\surun', '.\\\\ReleaseU/SuRunExt.pdb', '.\\\\ReleaseU/SuRunExt.lib', '.\\\\ReleaseU/SuRunExt.bsc', '.\\\\ReleaseUx', '.\\\\ReleaseUx', '.\\\\ReleaseUx', '.\\\\ReleaseUx', '.\\\\ReleaseUx', '../ReleaseUx', '..\\\\surun', '.\\\\ReleaseUx', '.\\\\ReleaseUx', '.\\\\ReleaseUx', '.\\\\ReleaseUsr', '.\\\\ReleaseUsr', '.\\\\ReleaseUsr', '.\\\\ReleaseUsr', '.\\\\ReleaseUsr', '../ReleaseUx', '../surun', '.\\\\ReleaseUsr', '.\\\\ReleaseUsr', '.\\\\DebugU/SuRunExt.tlb', '.\\\\DebugU/SuRunExt.pch', '.\\\\DebugU/', '.\\\\DebugU/', '.\\\\DebugU/', '..\\\\surun', '.\\\\DebugU/SuRunExt.pdb', '.\\\\DebugU/SuRunExt.lib', '.\\\\DebugU/SuRunExt.bsc', '..\\\\surun', '.\\\\DebugUx', '.\\\\DebugUx', './DebugUx', '.\\\\DebugU/SuRunExt.tlb', '.\\\\DebugUsr', '.\\\\DebugUsr', '.\\\\DebugUsr', '.\\\\DebugUsr', '../surun', '.\\\\DebugUsr', '.\\\\DebugUsr', '.\\\\DebugU/SuRunExt.bsc']\n",
            "C:\\src\\surun\\src\\PC\\SuRunVC9.vcxproj ['.\\\\ReleaseUsr', '.\\\\ReleaseUsr', '.\\\\ReleaseU\\\\', '.\\\\ReleaseU\\\\', '.\\\\DebugU\\\\', '.\\\\DebugU\\\\', '.\\\\ReleaseUx', '.\\\\ReleaseUx', '.\\\\DebugUx', '.\\\\DebugUx', '.\\\\DebugUx', '.\\\\DebugUx', '.\\\\ReleaseUsr', '.\\\\ReleaseUsr', '.\\\\ReleaseUsr', '.\\\\ReleaseUsr', '.\\\\ReleaseUsr', '.\\\\ReleaseUsr', '.\\\\ReleaseU/SuRun.tlb', '.\\\\ReleaseU/SuRun.pch', '.\\\\ReleaseU/', '.\\\\ReleaseU/', '.\\\\ReleaseU/', '.\\\\ReleaseU/SuRun.exe', '.\\\\ReleaseU/SuRun.pdb', '.\\\\ReleaseU/SuRun.bsc', '.\\\\DebugU/SuRun.tlb', '.\\\\DebugU/SuRun.pch', '.\\\\DebugU/', '.\\\\DebugU/', '.\\\\DebugU/', '.\\\\DebugU/SuRun.exe', '.\\\\DebugU/SuRun.pdb', '.\\\\DebugU/SuRun.bsc', '.\\\\ReleaseUx', '.\\\\ReleaseUx', '.\\\\ReleaseUx', '.\\\\ReleaseUx', '.\\\\ReleaseUx', '.\\\\ReleaseUx', '.\\\\ReleaseUx', '.\\\\ReleaseUx', '.\\\\DebugU/SuRun.tlb', '.\\\\DebugU/SuRun.pch', '.\\\\DebugU/', '.\\\\DebugU/', '.\\\\DebugU/', '.\\\\DebugU/SuRun.exe', '.\\\\DebugU/SuRun.pdb', '.\\\\DebugU/SuRun.bsc', '.\\\\DebugU/SuRun.tlb', '.\\\\DebugU/SuRun.pch', '.\\\\DebugUsr', '.\\\\DebugUsr', '.\\\\DebugUsr', '.\\\\DebugUsr', '.\\\\DebugU/SuRun.bsc']\n",
            "C:\\src\\surun\\tests\\TestScreenshot\\TestScreenshot.vcxproj []\n",
            "C:\\src\\surun\\tests\\TestScreenshotSuRun\\TestScreenshotSuRun.vcxproj []\n"
          ]
        }
      ],
      "source": [
        "for i in glob_files(\"*.vcxproj\"):\n",
        "    k: str = i.read_text(encoding=\"utf8\")\n",
        "    import re\n",
        "    # after xml '>' then start with '.'\n",
        "    result = re.findall(r\">(\\.+[\\\\/a-zA-Z\\.]+)\", k)\n",
        "    result = list(filter(lambda x: \"|\" not in x, result))\n",
        "    print(i, result)"
      ]
    },
    {
      "cell_type": "markdown",
      "id": "1108a2a0",
      "metadata": {},
      "source": [
        "what to do..."
      ]
    }
  ],
  "metadata": {
    "kernelspec": {
      "display_name": ".venv",
      "language": "python",
      "name": "python3"
    },
    "language_info": {
      "codemirror_mode": {
        "name": "ipython",
        "version": 3
      },
      "file_extension": ".py",
      "mimetype": "text/x-python",
      "name": "python",
      "nbconvert_exporter": "python",
      "pygments_lexer": "ipython3",
      "version": "3.13.1"
    }
  },
  "nbformat": 4,
  "nbformat_minor": 5
}
