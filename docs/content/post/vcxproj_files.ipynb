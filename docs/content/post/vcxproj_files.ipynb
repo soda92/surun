{
  "cells": [
    {
      "cell_type": "markdown",
      "id": "ec2a032c",
      "metadata": {},
      "source": [
        "---\n",
        "date: 2025-05-01T01:08:21+08:00\n",
        "title: Vcxproj_Files\n",
        "---"
      ]
    },
    {
      "cell_type": "markdown",
      "id": "235a3a07",
      "metadata": {},
      "source": [
        "# `.vcxproj` in Visual Studio"
      ]
    },
    {
      "cell_type": "markdown",
      "id": "04583cd0",
      "metadata": {},
      "source": [
        "https://learn.microsoft.com/en-us/cpp/build/reference/vcxproj-file-structure?view=msvc-170"
      ]
    },
    {
      "cell_type": "markdown",
      "id": "43c4c8df",
      "metadata": {},
      "source": [
        "If you intend to maintain your project properties in the IDE, we recommend you only create and modify your .vcxproj projects in the IDE, and avoid manual edits to the files. In most cases, you never need to manually edit the project file. Manual edits may break the project connections required to modify project settings in the Visual Studio property pages, and can cause build errors that are difficult to debug and repair. For more information about using the property pages, see Set C++ compiler and build properties in Visual Studio."
      ]
    },
    {
      "cell_type": "code",
      "execution_count": 1,
      "id": "d06b97d6",
      "metadata": {},
      "outputs": [
        {
          "name": "stdout",
          "output_type": "stream",
          "text": [
            "C:\\src\\surun\\install_surun\\InstallSuRunVC9.vcxproj\n",
            "C:\\src\\surun\\PC\\SuRunC.vcxproj\n",
            "C:\\src\\surun\\PC\\SuRunExtVC9.vcxproj\n",
            "C:\\src\\surun\\PC\\SuRunVC9.vcxproj\n",
            "C:\\src\\surun\\tests\\TestScreenshot\\TestScreenshot.vcxproj\n",
            "C:\\src\\surun\\tests\\TestScreenshotSuRun\\TestScreenshotSuRun.vcxproj\n"
          ]
        }
      ],
      "source": [
        "from surun_tools.glob1 import glob_files\n",
        "for i in glob_files(\"*.vcxproj\"):\n",
        "    print(i)"
      ]
    },
    {
      "cell_type": "markdown",
      "id": "17dbf597",
      "metadata": {},
      "source": [
        "## include files"
      ]
    },
    {
      "cell_type": "code",
      "execution_count": null,
      "id": "23d88013",
      "metadata": {},
      "outputs": [
        {
          "name": "stdout",
          "output_type": "stream",
          "text": [
            "C:\\src\\surun\\install_surun\\InstallSuRunVC9.vcxproj ['InstallSuRun.cpp', 'InstallSuRun.rc', 'resource.h', 'app.manifest', '..\\\\ReleaseUx64\\\\SuRun.exe', '..\\\\ReleaseUx64\\\\SuRun32.bin', '..\\\\ReleaseUx64\\\\SuRunExt.dll', '..\\\\ReleaseUx64\\\\SuRunExt32.dll', '..\\\\ReleaseU\\\\SuRun.exe', '..\\\\ReleaseU\\\\SuRunExt.dll', 'InstSuRunVer.rc2', '..\\\\res\\\\SuRun.ico', '..\\\\SuRunExt\\\\SuRunExtVC9.vcxproj', '..\\\\SuRunVC9.vcxproj']\n",
            "C:\\src\\surun\\PC\\SuRunC.vcxproj ['SuRunC.cpp', 'SuRunC.rc', 'resource.h', 'res\\\\SuRun.ico', 'res\\\\app.manifest']\n",
            "C:\\src\\surun\\PC\\SuRunExtVC9.vcxproj ['..\\\\DBGTrace.cpp', '..\\\\DynWTSAPI.cpp', '..\\\\Helpers.cpp', '..\\\\IsAdmin.cpp', '..\\\\LogonDlg.cpp', '..\\\\LSALogon.cpp', '..\\\\lsa_laar.cpp', '..\\\\Setup.cpp', '..\\\\sspi_auth.cpp', '..\\\\UserGroups.cpp', '..\\\\WinStaDesk.cpp', 'IATHook.cpp', 'SuRunext.cpp', 'SysMenuHook.cpp', 'SuRunExt.Def', 'SuRunExt32.Def', 'SuRunExtVer.rc2', 'SuRunext.rc', '..\\\\DynWTSAPI.h', '..\\\\Helpers.h', 'IATHook.h', 'resource.h', 'SuRunext.h', 'SysMenuHook.h', '..\\\\res\\\\app.manifest', '..\\\\res\\\\icon1.ico', '..\\\\res\\\\Shield.ico', '..\\\\res\\\\SuRun.ico']\n",
            "C:\\src\\surun\\PC\\SuRunVC9.vcxproj ['DBGTrace.cpp', 'DynWTSAPI.cpp', 'Helpers.cpp', 'IsAdmin.cpp', 'LogonDlg.cpp', 'LSALogon.cpp', 'lsa_laar.cpp', 'main.cpp', 'ReqAdmin.cpp', 'Service.cpp', 'Setup.cpp', 'sspi_auth.cpp', 'TrayMsgWnd.cpp', 'TrayShowAdmin.cpp', 'UserGroups.cpp', 'WatchDog.cpp', 'WinStaDesk.cpp', 'launcher.cpp', 'SuRun.rc', 'anchor.h', 'main.h', 'CmdLine.h', 'DBGTrace.H', 'DynWTSAPI.h', 'Helpers.h', 'IsAdmin.h', 'LogonDlg.h', 'LSALogon.h', 'lsa_laar.h', 'pugxml.h', 'ReqAdmin.h', 'resource.h', 'ResStr.h', 'ScreenSnap.h', 'Service.h', 'Setup.h', 'sspi_auth.h', 'SuRunVer.h', 'TrayMsgWnd.h', 'TrayShowAdmin.h', 'UserGroups.h', 'WatchDog.h', 'WinStaDesk.h', 'res\\\\Admin.ico', 'res\\\\AutoCancel.ico', 'res\\\\CancelWindows.ico', 'res\\\\ico10605.ico', 'res\\\\ico10606.ico', 'res\\\\ico10607.ico', 'res\\\\neverquestion.ico', 'res\\\\NoAdmin.ico', 'res\\\\NoQuestion.ico', 'res\\\\NoRestrict.ico', 'res\\\\NoWindow.ico', 'res\\\\NoWindows.ico', 'res\\\\Question.ico', 'res\\\\Restrict.ico', 'res\\\\SHADMIN.ico', 'res\\\\Shield.ico', 'res\\\\SrAdmin.ico', 'res\\\\SuRun.ico', 'res\\\\SuRunBW.ico', 'res\\\\Windows.ico', 'res\\\\app.manifest', 'SuRunVer.rc2', 'ChangeLog.txt', 'gpedit.txt', 'ReadMe.txt', 'SuRunExt\\\\SuRunExtVC9.vcxproj']\n",
            "C:\\src\\surun\\tests\\TestScreenshot\\TestScreenshot.vcxproj ['TestScreenshot.cpp', 'app.manifest']\n",
            "C:\\src\\surun\\tests\\TestScreenshotSuRun\\TestScreenshotSuRun.vcxproj ['main.cpp', 'Header.h']\n"
          ]
        }
      ],
      "source": [
        "for i in glob_files(\"*.vcxproj\"):\n",
        "    k = i.read_text(encoding=\"utf8\")\n",
        "    import re\n",
        "\n",
        "    result = re.findall(r\"Include=\\\"(.*)\\\"\", k)\n",
        "    result = list(filter(lambda x: \"|\" not in x, result))\n",
        "    print(i, result)"
      ]
    },
    {
      "cell_type": "code",
      "execution_count": 12,
      "id": "6a13683d",
      "metadata": {},
      "outputs": [
        {
          "name": "stdout",
          "output_type": "stream",
          "text": [
            "C:\\src\\surun\\PC\\SuRunExtVC9.vcxproj SuRunExt.Def\n",
            "C:\\src\\surun\\PC\\SuRunExtVC9.vcxproj SuRunExt32.Def\n"
          ]
        }
      ],
      "source": [
        "for i in glob_files(\"*.vcxproj\"):\n",
        "    k: str = i.read_text(encoding=\"utf8\")\n",
        "    import re\n",
        "\n",
        "    result = re.findall(r\"Include=\\\"(.*)\\\"\", k)\n",
        "    result = list(filter(lambda x: \"|\" not in x, result))\n",
        "    # print(i, result)\n",
        "    for r in result:\n",
        "        if k.count(r) != 1:\n",
        "            print(i, r)"
      ]
    },
    {
      "cell_type": "markdown",
      "id": "b835d177",
      "metadata": {},
      "source": [
        "## seems there are many extra paths"
      ]
    },
    {
      "cell_type": "code",
      "execution_count": 17,
      "id": "218a183b",
      "metadata": {},
      "outputs": [
        {
          "name": "stdout",
          "output_type": "stream",
          "text": [
            "C:\\src\\surun\\install_surun\\InstallSuRunVC9.vcxproj ['.\\\\Debug\\\\', '.\\\\Debug\\\\', '..\\\\', '.\\\\Release\\\\', '.\\\\Debug/InstallSuRun.tlb', '.\\\\Debug/InstallSuRun.pch', '.\\\\Debug/', '.\\\\Debug/', '.\\\\Debug/', '.\\\\Debug/InstallSuRun.exe', '.\\\\Debug/InstallSuRun.pdb', '.\\\\Debug/InstallSuRun.bsc', '.\\\\Release/InstallSuRun.tlb', '.\\\\Release/InstallSuRun.pch', '.\\\\Release/', '.\\\\Release/', '.\\\\Release/', '../InstallSuRun.exe', '.\\\\Release/InstallSuRun.pdb', '.\\\\Release/InstallSuRun.bsc', '.\\\\Debug/InstallSuRun.tlb', '.\\\\Debug/InstallSuRun.pch', '.\\\\Debug/', '.\\\\Debug/', '.\\\\Debug/', '.\\\\Debug/InstallSuRun.exe', '.\\\\Debug/InstallSuRun.pdb', '.\\\\Debug/InstallSuRun.bsc', '.\\\\Debug/InstallSuRun.tlb', '.\\\\Debug/InstallSuRun.pch', '.\\\\Debug/', '.\\\\Debug/', '.\\\\Debug/', '.\\\\Debug/InstallSuRun.exe', '.\\\\Debug/InstallSuRun.pdb', '.\\\\Debug/InstallSuRun.bsc']\n",
            "C:\\src\\surun\\PC\\SuRunC.vcxproj ['.\\\\Debug\\\\', '.\\\\Debug\\\\', '.\\\\Release\\\\', '.\\\\Release\\\\', '.\\\\Debug/SuRunC.tlb', '.\\\\Debug/SuRunC.pch', '.\\\\Debug/', '.\\\\Debug/', '.\\\\Debug/', '..\\\\DebugU/SuRun.com', '.\\\\Debug/SuRunC.pdb', '.\\\\Debug/SuRunC.bsc', '.\\\\Debug/SuRunC.tlb', '.\\\\Debug/SuRunC.pch', '.\\\\Debug/', '.\\\\Debug/', '.\\\\Debug/', '..\\\\DebugUx', '.\\\\Debug/SuRunC.pdb', '.\\\\Debug/SuRunC.bsc', '.\\\\Release/SuRunC.tlb', '.\\\\Release/SuRunC.pch', '.\\\\Release/', '.\\\\Release/', '.\\\\Release/', '..\\\\ReleaseU/SuRun.com', '.\\\\Release/SuRunC.pdb', '.\\\\Release/SuRunC.bsc', '.\\\\Release/SuRunC.tlb', '.\\\\Release/SuRunC.pch', '.\\\\Release/', '.\\\\Release/', '.\\\\Release/', '..\\\\ReleaseUx', '.\\\\Release/SuRunC.pdb', '.\\\\Release/SuRunC.bsc', '.\\\\Debug/SuRunC.tlb', '.\\\\Debug/SuRunC.pch', '.\\\\Debug/', '.\\\\Debug/', '.\\\\Debug/', '.\\\\DebugU/SuRun.com', '.\\\\Debug/SuRunC.pdb', '.\\\\Debug/SuRunC.bsc', '.\\\\Debug/SuRunC.tlb', '.\\\\Debug/SuRunC.pch', '.\\\\Debug/', '.\\\\Debug/', '.\\\\Debug/', '..\\\\DebugUx', '.\\\\Debug/SuRunC.pdb', '.\\\\Debug/SuRunC.bsc', '.\\\\Release/SuRunC.tlb', '.\\\\Release/SuRunC.pch', '.\\\\Release/', '.\\\\Release/', '.\\\\Release/', '.\\\\ReleaseU/SuRun.com', '.\\\\Release/SuRunC.pdb', '.\\\\Release/SuRunC.bsc', '.\\\\Release/SuRunC.tlb', '.\\\\Release/SuRunC.pch', '.\\\\Release/', '.\\\\Release/', '.\\\\Release/', '..\\\\ReleaseUx', '.\\\\Release/SuRunC.pdb', '.\\\\Release/SuRunC.bsc']\n",
            "C:\\src\\surun\\PC\\SuRunExtVC9.vcxproj ['.\\\\DebugU\\\\', '.\\\\DebugU\\\\', '.\\\\ReleaseU\\\\', '.\\\\ReleaseU\\\\', './ReleaseUx', './ReleaseUx', '.\\\\ReleaseUsr', '.\\\\ReleaseUsr', '.\\\\DebugUx', '.\\\\DebugUx', '.\\\\DebugUsr', '.\\\\DebugUsr', '.\\\\DebugU/SuRunExt.tlb', '.\\\\DebugU/SuRunExt.pch', '.\\\\DebugU/', '.\\\\DebugU/', '.\\\\DebugU/', '../DebugU/SuRunExt.dll', '.\\\\SuRunExt.Def', '.\\\\DebugU/SuRunExt.pdb', '.\\\\DebugU/SuRunExt.lib', '.\\\\DebugU/SuRunExt.bsc', '.\\\\ReleaseU/SuRunExt.tlb', '.\\\\ReleaseU/SuRunExt.pch', '.\\\\ReleaseU/', '.\\\\ReleaseU/', '.\\\\ReleaseU/', '../ReleaseU/SuRunExt.dll', '.\\\\SuRunExt.Def', '.\\\\ReleaseU/SuRunExt.pdb', '.\\\\ReleaseU/SuRunExt.lib', '.\\\\ReleaseU/SuRunExt.bsc', '.\\\\ReleaseUx', '.\\\\ReleaseUx', '.\\\\ReleaseUx', '.\\\\ReleaseUx', '.\\\\ReleaseUx', '../ReleaseUx', '.\\\\SuRunExt.Def', '.\\\\ReleaseUx', '.\\\\ReleaseUx', '.\\\\ReleaseUx', '.\\\\ReleaseUsr', '.\\\\ReleaseUsr', '.\\\\ReleaseUsr', '.\\\\ReleaseUsr', '.\\\\ReleaseUsr', '../ReleaseUx', '.\\\\SuRunExt', '.\\\\ReleaseUsr', '.\\\\ReleaseUsr', '.\\\\DebugU/SuRunExt.tlb', '.\\\\DebugU/SuRunExt.pch', '.\\\\DebugU/', '.\\\\DebugU/', '.\\\\DebugU/', '../DebugU/SuRunExt.dll', '.\\\\SuRunExt.Def', '.\\\\DebugU/SuRunExt.pdb', '.\\\\DebugU/SuRunExt.lib', '.\\\\DebugU/SuRunExt.bsc', '../DebugUx', '.\\\\SuRunExt.Def', '.\\\\DebugUx', '.\\\\DebugUx', './DebugUx', '.\\\\DebugU/SuRunExt.tlb', '.\\\\DebugUsr', '.\\\\DebugUsr', '.\\\\DebugUsr', '.\\\\DebugUsr', '../DebugUx', '.\\\\SuRunExt', '.\\\\DebugUsr', '.\\\\DebugUsr', '.\\\\DebugU/SuRunExt.bsc']\n",
            "C:\\src\\surun\\PC\\SuRunVC9.vcxproj ['.\\\\ReleaseUsr', '.\\\\ReleaseUsr', '.\\\\ReleaseU\\\\', '.\\\\ReleaseU\\\\', '.\\\\DebugU\\\\', '.\\\\DebugU\\\\', '.\\\\ReleaseUx', '.\\\\ReleaseUx', '.\\\\DebugUx', '.\\\\DebugUx', '.\\\\DebugUx', '.\\\\DebugUx', '.\\\\ReleaseUsr', '.\\\\ReleaseUsr', '.\\\\ReleaseUsr', '.\\\\ReleaseUsr', '.\\\\ReleaseUsr', '.\\\\ReleaseUsr', '.\\\\ReleaseU/SuRun.tlb', '.\\\\ReleaseU/SuRun.pch', '.\\\\ReleaseU/', '.\\\\ReleaseU/', '.\\\\ReleaseU/', '.\\\\ReleaseU/SuRun.exe', '.\\\\ReleaseU/SuRun.pdb', '.\\\\ReleaseU/SuRun.bsc', '.\\\\DebugU/SuRun.tlb', '.\\\\DebugU/SuRun.pch', '.\\\\DebugU/', '.\\\\DebugU/', '.\\\\DebugU/', '.\\\\DebugU/SuRun.exe', '.\\\\DebugU/SuRun.pdb', '.\\\\DebugU/SuRun.bsc', '.\\\\ReleaseUx', '.\\\\ReleaseUx', '.\\\\ReleaseUx', '.\\\\ReleaseUx', '.\\\\ReleaseUx', '.\\\\ReleaseUx', '.\\\\ReleaseUx', '.\\\\ReleaseUx', '.\\\\DebugU/SuRun.tlb', '.\\\\DebugU/SuRun.pch', '.\\\\DebugU/', '.\\\\DebugU/', '.\\\\DebugU/', '.\\\\DebugU/SuRun.exe', '.\\\\DebugU/SuRun.pdb', '.\\\\DebugU/SuRun.bsc', '.\\\\DebugU/SuRun.tlb', '.\\\\DebugU/SuRun.pch', '.\\\\DebugUsr', '.\\\\DebugUsr', '.\\\\DebugUsr', '.\\\\DebugUsr', '.\\\\DebugU/SuRun.bsc']\n",
            "C:\\src\\surun\\tests\\TestScreenshot\\TestScreenshot.vcxproj []\n",
            "C:\\src\\surun\\tests\\TestScreenshotSuRun\\TestScreenshotSuRun.vcxproj []\n"
          ]
        }
      ],
      "source": [
        "for i in glob_files(\"*.vcxproj\"):\n",
        "    k: str = i.read_text(encoding=\"utf8\")\n",
        "    import re\n",
        "    # after xml '>' then start with '.'\n",
        "    result = re.findall(r\">(\\.+[\\\\/a-zA-Z\\.]+)\", k)\n",
        "    result = list(filter(lambda x: \"|\" not in x, result))\n",
        "    print(i, result)"
      ]
    },
    {
      "cell_type": "markdown",
      "id": "1108a2a0",
      "metadata": {},
      "source": [
        "what to do..."
      ]
    },
    {
      "cell_type": "markdown",
      "id": "f3d9c801",
      "metadata": {},
      "source": []
    }
  ],
  "metadata": {
    "kernelspec": {
      "display_name": ".venv",
      "language": "python",
      "name": "python3"
    },
    "language_info": {
      "codemirror_mode": {
        "name": "ipython",
        "version": 3
      },
      "file_extension": ".py",
      "mimetype": "text/x-python",
      "name": "python",
      "nbconvert_exporter": "python",
      "pygments_lexer": "ipython3",
      "version": "3.13.1"
    }
  },
  "nbformat": 4,
  "nbformat_minor": 5
}