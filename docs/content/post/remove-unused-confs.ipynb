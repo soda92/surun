{
 "cells": [
  {
   "cell_type": "markdown",
   "id": "ec2a032c",
   "metadata": {},
   "source": [
    "---\n",
    "date: '2025-05-07T18:39:45+08:00'\n",
    "title: 'Remove Unused Confs'\n",
    "---"
   ]
  },
  {
   "cell_type": "code",
   "execution_count": null,
   "id": "c1c8df23",
   "metadata": {},
   "outputs": [
    {
     "data": {
      "text/plain": [
       "[WindowsPath('C:/src/surun/src/PC/InstallSuRun.vcxproj'),\n",
       " WindowsPath('C:/src/surun/src/PC/SuRun.vcxproj'),\n",
       " WindowsPath('C:/src/surun/src/PC/SuRunExt.vcxproj'),\n",
       " WindowsPath('C:/src/surun/tests/TestScreenshot/TestScreenshot.vcxproj'),\n",
       " WindowsPath('C:/src/surun/tests/TestScreenshotSuRun/TestScreenshotSuRun.vcxproj')]"
      ]
     },
     "execution_count": 1,
     "metadata": {},
     "output_type": "execute_result"
    }
   ],
   "source": [
    "from surun_tools.glob1 import glob_files\n",
    "glob_files(\"*.vcxproj\")"
   ]
  },
  {
   "cell_type": "code",
   "execution_count": 10,
   "id": "8f7b659c",
   "metadata": {},
   "outputs": [
    {
     "data": {
      "text/plain": [
       "[WindowsPath('C:/src/surun/src/PC/InstallSuRun.vcxproj'),\n",
       " WindowsPath('C:/src/surun/src/PC/SuRun.vcxproj'),\n",
       " WindowsPath('C:/src/surun/src/PC/SuRunExt.vcxproj')]"
      ]
     },
     "execution_count": 10,
     "metadata": {},
     "output_type": "execute_result"
    }
   ],
   "source": [
    "proj_files = list(filter(lambda x: \"test\" not in str(x), glob_files(\"*.vcxproj\")))\n",
    "proj_files"
   ]
  },
  {
   "cell_type": "code",
   "execution_count": 11,
   "id": "2a12154d",
   "metadata": {},
   "outputs": [],
   "source": [
    "ext_proj = glob_files(\"*.vcxproj\")[2]"
   ]
  },
  {
   "cell_type": "code",
   "execution_count": 12,
   "id": "0fff843f",
   "metadata": {},
   "outputs": [
    {
     "name": "stdout",
     "output_type": "stream",
     "text": [
      "C:\\src\\surun\\src\\PC\\SuRunExt.vcxproj\n"
     ]
    }
   ],
   "source": [
    "print(ext_proj)"
   ]
  },
  {
   "cell_type": "code",
   "execution_count": 4,
   "id": "a667499a",
   "metadata": {},
   "outputs": [],
   "source": [
    "from lxml import etree"
   ]
  },
  {
   "cell_type": "code",
   "execution_count": 13,
   "id": "774186a6",
   "metadata": {},
   "outputs": [],
   "source": [
    "def is_correct_conf(s: str) -> bool:\n",
    "    if \"x64 Unicode Debug|x64\" in s:\n",
    "        return True\n",
    "    elif \"SuRun32 Unicode Debug|Win32\" in s:\n",
    "        return True\n",
    "    return False"
   ]
  },
  {
   "cell_type": "code",
   "execution_count": 18,
   "id": "3b878e3a",
   "metadata": {},
   "outputs": [],
   "source": [
    "def save():\n",
    "    global tree\n",
    "    tree.write(ext_proj, encoding=\"utf-8\", xml_declaration=True)\n",
    "    from pathlib import Path\n",
    "\n",
    "    content = Path(ext_proj).read_text(encoding=\"utf8\")\n",
    "    content = content.replace(\"ns0:\", \"\").replace(\":ns0\", \"\").replace('/>', ' />')\n",
    "    Path(ext_proj).write_text(content, encoding=\"utf8\")"
   ]
  },
  {
   "cell_type": "code",
   "execution_count": 19,
   "id": "b8389563",
   "metadata": {},
   "outputs": [],
   "source": [
    "ns = {\"default\": \"http://schemas.microsoft.com/developer/msbuild/2003\"}\n",
    "\n",
    "\n",
    "parser = etree.XMLParser(remove_comments=False)\n",
    "tree = etree.parse(ext_proj, parser)\n",
    "root = tree.getroot()\n",
    "\n",
    "for i in root.findall('default:ItemGroup/default:ProjectConfiguration', ns):\n",
    "    if not is_correct_conf(i.attrib[\"Include\"]):\n",
    "        i.getparent().remove(i)\n",
    "\n",
    "save()\n"
   ]
  },
  {
   "cell_type": "markdown",
   "id": "367975bc",
   "metadata": {},
   "source": [
    "for sln files:\n",
    "\n",
    "remove these:\n",
    "```\n",
    "GlobalSection(SolutionConfigurationPlatforms) = preSolution\n",
    "\t\tDebug|Win32 = Debug|Win32 <-\n",
    "\t\tDebug|x64 = Debug|x64     <-\n",
    "...\n",
    "EndGlobalSection\n",
    "```\n",
    "\n",
    "for this file we can see that only conf contains | symbol. we can use that."
   ]
  },
  {
   "cell_type": "code",
   "execution_count": 22,
   "id": "acd8e6d1",
   "metadata": {},
   "outputs": [
    {
     "name": "stdout",
     "output_type": "stream",
     "text": [
      "C:\\src\\surun\\src\\PC\\SuRun.sln\n"
     ]
    }
   ],
   "source": [
    "from pathlib import Path\n",
    "sln:Path = glob_files(\"*.sln\")[0]\n",
    "print(sln)"
   ]
  },
  {
   "cell_type": "code",
   "execution_count": 25,
   "id": "373a3e92",
   "metadata": {},
   "outputs": [
    {
     "data": {
      "text/plain": [
       "3861"
      ]
     },
     "execution_count": 25,
     "metadata": {},
     "output_type": "execute_result"
    }
   ],
   "source": [
    "content = sln.read_text(encoding=\"utf8\")\n",
    "text = []\n",
    "for i in content.split(\"\\n\"):\n",
    "    if \"|\" in i:\n",
    "        if not is_correct_conf(i):\n",
    "            continue\n",
    "        else:\n",
    "            text.append(i)\n",
    "    else:\n",
    "        text.append(i)\n",
    "sln.write_text(\"\\n\".join(text), encoding=\"utf8\")"
   ]
  },
  {
   "cell_type": "code",
   "execution_count": null,
   "id": "864bd5e3",
   "metadata": {},
   "outputs": [],
   "source": []
  }
 ],
 "metadata": {
  "kernelspec": {
   "display_name": ".venv",
   "language": "python",
   "name": "python3"
  },
  "language_info": {
   "codemirror_mode": {
    "name": "ipython",
    "version": 3
   },
   "file_extension": ".py",
   "mimetype": "text/x-python",
   "name": "python",
   "nbconvert_exporter": "python",
   "pygments_lexer": "ipython3",
   "version": "3.13.1"
  }
 },
 "nbformat": 4,
 "nbformat_minor": 5
}
