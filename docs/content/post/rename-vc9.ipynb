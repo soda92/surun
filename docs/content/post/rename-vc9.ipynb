{
 "cells": [
  {
   "cell_type": "markdown",
   "id": "ec2a032c",
   "metadata": {},
   "source": [
    "---\n",
    "date: '2025-05-07T17:39:07+08:00'\n",
    "title: 'Rename Vc9'\n",
    "---"
   ]
  },
  {
   "cell_type": "code",
   "execution_count": 2,
   "id": "8b3e1bb6",
   "metadata": {},
   "outputs": [
    {
     "data": {
      "text/plain": [
       "[WindowsPath('C:/src/surun/src/PC/SuRunVC9.sln')]"
      ]
     },
     "execution_count": 2,
     "metadata": {},
     "output_type": "execute_result"
    }
   ],
   "source": [
    "# vc9 files\n",
    "from surun_tools.glob1 import glob_files\n",
    "\n",
    "glob_files(\"*VC9.sln\")"
   ]
  },
  {
   "cell_type": "code",
   "execution_count": null,
   "id": "d390d1b0",
   "metadata": {},
   "outputs": [
    {
     "data": {
      "text/plain": [
       "[WindowsPath('C:/src/surun/src/install_surun/InstallSuRunVC9.vcxproj.user'),\n",
       " WindowsPath('C:/src/surun/src/PC/InstallSuRunVC9.vcxproj'),\n",
       " WindowsPath('C:/src/surun/src/PC/InstallSuRunVC9.vcxproj.filters'),\n",
       " WindowsPath('C:/src/surun/src/PC/InstallSuRunVC9.vcxproj.user'),\n",
       " WindowsPath('C:/src/surun/src/PC/SuRunExtVC9.vcxproj'),\n",
       " WindowsPath('C:/src/surun/src/PC/SuRunExtVC9.vcxproj.filters'),\n",
       " WindowsPath('C:/src/surun/src/PC/SuRunExtVC9.vcxproj.user'),\n",
       " WindowsPath('C:/src/surun/src/PC/SuRunVC9.vcxproj'),\n",
       " WindowsPath('C:/src/surun/src/PC/SuRunVC9.vcxproj.filters'),\n",
       " WindowsPath('C:/src/surun/src/PC/SuRunVC9.vcxproj.user'),\n",
       " WindowsPath('C:/src/surun/src/PC/DebugUx64/SuRunExtVC9.vcxproj.FileListAbsolute.txt'),\n",
       " WindowsPath('C:/src/surun/src/PC/DebugUx64/SuRunVC9.vcxproj.FileListAbsolute.txt')]"
      ]
     },
     "execution_count": 5,
     "metadata": {},
     "output_type": "execute_result"
    }
   ],
   "source": [
    "glob_files(\"*VC9.vcxproj*\")"
   ]
  },
  {
   "cell_type": "code",
   "execution_count": 6,
   "id": "00a4b63b",
   "metadata": {},
   "outputs": [],
   "source": [
    "from pathlib import Path\n",
    "for i in glob_files(\"*VC9.vcxproj*\"):\n",
    "    new_name = str(i).replace(\"VC9\", \"\")\n",
    "    import shutil\n",
    "    shutil.move(i, Path(new_name))"
   ]
  },
  {
   "cell_type": "code",
   "execution_count": 7,
   "id": "4c839d3c",
   "metadata": {},
   "outputs": [],
   "source": [
    "from pathlib import Path\n",
    "for i in glob_files(\"*VC9.*\"):\n",
    "    new_name = str(i).replace(\"VC9\", \"\")\n",
    "    import shutil\n",
    "    shutil.move(i, Path(new_name))"
   ]
  },
  {
   "cell_type": "code",
   "execution_count": 8,
   "id": "3fedb368",
   "metadata": {},
   "outputs": [
    {
     "data": {
      "text/plain": [
       "WindowsPath('C:/src/surun/src/PC/SuRun.sln')"
      ]
     },
     "execution_count": 8,
     "metadata": {},
     "output_type": "execute_result"
    }
   ],
   "source": [
    "sln = glob_files(\"*.sln\")[0]\n",
    "sln"
   ]
  },
  {
   "cell_type": "code",
   "execution_count": null,
   "id": "2af6b31c",
   "metadata": {},
   "outputs": [
    {
     "data": {
      "text/plain": [
       "15758"
      ]
     },
     "execution_count": 9,
     "metadata": {},
     "output_type": "execute_result"
    }
   ],
   "source": [
    "c: str = sln.read_text(encoding=\"utf8\")\n",
    "c = c.replace(\"VC9\", \"\")\n",
    "sln.write_text(c, encoding=\"utf8\")"
   ]
  },
  {
   "cell_type": "code",
   "execution_count": null,
   "id": "cac0ab17",
   "metadata": {},
   "outputs": [],
   "source": []
  }
 ],
 "metadata": {
  "kernelspec": {
   "display_name": ".venv",
   "language": "python",
   "name": "python3"
  },
  "language_info": {
   "codemirror_mode": {
    "name": "ipython",
    "version": 3
   },
   "file_extension": ".py",
   "mimetype": "text/x-python",
   "name": "python",
   "nbconvert_exporter": "python",
   "pygments_lexer": "ipython3",
   "version": "3.13.1"
  }
 },
 "nbformat": 4,
 "nbformat_minor": 5
}
