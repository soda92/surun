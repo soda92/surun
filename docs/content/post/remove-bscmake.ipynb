{
 "cells": [
  {
   "cell_type": "markdown",
   "id": "ec2a032c",
   "metadata": {},
   "source": [
    "---\n",
    "date: '2025-05-07T17:48:16+08:00'\n",
    "title: 'Remove Bscmake'\n",
    "---"
   ]
  },
  {
   "cell_type": "code",
   "execution_count": 1,
   "id": "6baf8e11",
   "metadata": {},
   "outputs": [],
   "source": [
    "from surun_tools.glob1 import glob_files"
   ]
  },
  {
   "cell_type": "code",
   "execution_count": 2,
   "id": "9d06719a",
   "metadata": {},
   "outputs": [
    {
     "data": {
      "text/plain": [
       "[WindowsPath('C:/src/surun/src/PC/InstallSuRun.vcxproj'),\n",
       " WindowsPath('C:/src/surun/src/PC/SuRun.vcxproj'),\n",
       " WindowsPath('C:/src/surun/src/PC/SuRunExt.vcxproj'),\n",
       " WindowsPath('C:/src/surun/tests/TestScreenshot/TestScreenshot.vcxproj'),\n",
       " WindowsPath('C:/src/surun/tests/TestScreenshotSuRun/TestScreenshotSuRun.vcxproj')]"
      ]
     },
     "execution_count": 2,
     "metadata": {},
     "output_type": "execute_result"
    }
   ],
   "source": [
    "glob_files(\"*.vcxproj\")"
   ]
  },
  {
   "cell_type": "code",
   "execution_count": 4,
   "id": "ada1fe8d",
   "metadata": {},
   "outputs": [
    {
     "data": {
      "text/plain": [
       "['    <Bscmake>', '    </Bscmake>', '    <Bscmake>']"
      ]
     },
     "execution_count": 4,
     "metadata": {},
     "output_type": "execute_result"
    }
   ],
   "source": [
    "lines = []\n",
    "for i in glob_files(\"*.vcxproj\"):\n",
    "    content = i.read_text(encoding=\"utf8\")\n",
    "    for line in content.split('\\n'):\n",
    "        if \"bscmake\" in line.lower():\n",
    "            lines.append(line)\n",
    "lines[:3]"
   ]
  },
  {
   "cell_type": "code",
   "execution_count": 5,
   "id": "058f7939",
   "metadata": {},
   "outputs": [],
   "source": [
    "import xml.etree.ElementTree as ET\n",
    "\n",
    "def remove_bscmake_nodes(xml_file):\n",
    "    \"\"\"\n",
    "    Removes all nodes with the name 'bscmake' and their contents from an XML file.\n",
    "\n",
    "    Args:\n",
    "        xml_file (str): The path to the XML file.\n",
    "    \"\"\"\n",
    "    try:\n",
    "        tree = ET.parse(xml_file)\n",
    "        root = tree.getroot()\n",
    "\n",
    "        nodes_to_remove = root.findall('bscmake')\n",
    "        for node in nodes_to_remove:\n",
    "            root.remove(node)\n",
    "\n",
    "        tree.write(xml_file, encoding='utf-8', xml_declaration=True)\n",
    "        print(f\"Successfully removed all 'bscmake' nodes from '{xml_file}'.\")\n",
    "\n",
    "    except FileNotFoundError:\n",
    "        print(f\"Error: File not found at '{xml_file}'.\")\n",
    "    except ET.ParseError:\n",
    "        print(f\"Error: Could not parse the XML file '{xml_file}'.\")\n",
    "    except Exception as e:\n",
    "        print(f\"An unexpected error occurred: {e}\")"
   ]
  },
  {
   "cell_type": "code",
   "execution_count": null,
   "id": "c0048505",
   "metadata": {},
   "outputs": [],
   "source": [
    "for file_path in glob_files(\"*.vcxproj\"):\n",
    "    remove_bscmake_nodes(file_path)"
   ]
  }
 ],
 "metadata": {
  "kernelspec": {
   "display_name": ".venv",
   "language": "python",
   "name": "python3"
  },
  "language_info": {
   "codemirror_mode": {
    "name": "ipython",
    "version": 3
   },
   "file_extension": ".py",
   "mimetype": "text/x-python",
   "name": "python",
   "nbconvert_exporter": "python",
   "pygments_lexer": "ipython3",
   "version": "3.13.1"
  }
 },
 "nbformat": 4,
 "nbformat_minor": 5
}
