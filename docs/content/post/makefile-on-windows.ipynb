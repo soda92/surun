{
 "cells": [
  {
   "cell_type": "markdown",
   "id": "ec2a032c",
   "metadata": {},
   "source": [
    "---\n",
    "date: '2025-05-10T10:50:32+08:00'\n",
    "title: 'using Makefile On Windows with powershell'\n",
    "---"
   ]
  },
  {
   "cell_type": "markdown",
   "id": "7e9b4772",
   "metadata": {},
   "source": [
    "Actually, makefile can be used on Windows. I have used them when intergrating SuRun with Go.\n",
    "\n",
    "remove directory\n",
    "```makefile\n",
    "pwsh -nop -c \"rm -r -Force ../build-ig || 1\"\n",
    "```\n",
    "create directory\n",
    "\n",
    "```makefile\n",
    "pwsh -nop -c \"mkdir ReleaseUx64\" || true\n",
    "```\n",
    "\n",
    "launch makefile in MSYS2\n",
    "```makefile\n",
    "msys-surun:\n",
    "\tpwsh -nop msys.ps1 -ucrt64 -c \"make _msys_surun\"\n",
    "\n",
    "_msys_surun:\n",
    "\t# commands in MSYS2\n",
    "```"
   ]
  },
  {
   "cell_type": "markdown",
   "id": "332152b5",
   "metadata": {},
   "source": []
  }
 ],
 "metadata": {
  "language_info": {
   "name": "python"
  }
 },
 "nbformat": 4,
 "nbformat_minor": 5
}
