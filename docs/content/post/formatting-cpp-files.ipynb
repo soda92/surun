{
 "cells": [
  {
   "cell_type": "markdown",
   "id": "ec2a032c",
   "metadata": {},
   "source": [
    "---\n",
    "date: '2025-05-10T10:58:39+08:00'\n",
    "title: 'Formatting Cpp Files'\n",
    "---"
   ]
  },
  {
   "cell_type": "markdown",
   "id": "9c2fc7bb",
   "metadata": {},
   "source": [
    "Actually, formatting C++ files are hard.\n",
    "\n",
    "VSCode comes with a default formatting style - backed by MS C/C++ or clang-format. Also, most of legacy code\n",
    "are not formatted using standard tools, so you will get a lot of git differences when you have changed a\n",
    "bit of code, and pressed Alt+Shift+F; this is a key difference compared to Python.\n",
    "\n",
    "The solution was to format all C++ files before touching the code - so an automated tool was necessary.\n",
    "\n",
    "However, after the first round, it will be time-consuming to format all files, even if you just changed\n",
    "code in a few files. In this case, we can extract changed files from git, and only format these files.\n",
    "\n",
    "One of the key configuration for clang-format is the `SortIncludes: Never` option. On Windows, you will always\n",
    "need \"windows.h\" before any other things, and the default formatting style will put angled includes in the second\n",
    "place, render a major build error.\n",
    "\n",
    "refer [`run_format.py`][1] for a git formatting implementation; code also provided below.\n",
    "\n",
    "[1]: https://github.com/soda92/surun/blob/main/surun_tools/run_format.py"
   ]
  },
  {
   "cell_type": "code",
   "execution_count": null,
   "id": "12b6b3e9",
   "metadata": {},
   "outputs": [],
   "source": [
    "from sodatools import CD\n",
    "from pathlib import Path\n",
    "from surun_tools.glob1 import glob_files\n",
    "import subprocess\n",
    "\n",
    "proj_root = Path(__file__).resolve().parent.parent\n",
    "\n",
    "files = []\n",
    "\n",
    "\n",
    "def surun_format_all():\n",
    "    with CD(proj_root):\n",
    "        files.extend(glob_files(\"*.h\"))\n",
    "        files.extend(glob_files(\"*.cpp\"))\n",
    "\n",
    "        files.extend(glob_files(\"SuRunC/*.h\"))\n",
    "        files.extend(glob_files(\"SuRunC/*.cpp\"))\n",
    "\n",
    "        files.extend(glob_files(\"SuRunExt/*.h\"))\n",
    "        files.extend(glob_files(\"SuRunExt/*.cpp\"))\n",
    "\n",
    "    for file in files:\n",
    "        file_path = proj_root.joinpath(file)\n",
    "        subprocess.run(\n",
    "            [\n",
    "                \"clang-format\",\n",
    "                file_path,\n",
    "                \"-i\",\n",
    "            ]\n",
    "        )\n",
    "\n",
    "\n",
    "def surun_format():\n",
    "    files = []\n",
    "    with CD(proj_root):\n",
    "        changed_files = subprocess.getoutput(\"git status --short\")\n",
    "        for line in changed_files.split(\"\\n\"):\n",
    "            if line.startswith(\" M \"):\n",
    "                files.append(line[3:])\n",
    "\n",
    "    for file in files:\n",
    "        file_path = proj_root.joinpath(file)\n",
    "        subprocess.run(\n",
    "            [\n",
    "                \"clang-format\",\n",
    "                file_path,\n",
    "                \"-i\",\n",
    "            ]\n",
    "        )\n"
   ]
  }
 ],
 "metadata": {
  "kernelspec": {
   "display_name": ".venv",
   "language": "python",
   "name": "python3"
  },
  "language_info": {
   "codemirror_mode": {
    "name": "ipython",
    "version": 3
   },
   "file_extension": ".py",
   "mimetype": "text/x-python",
   "name": "python",
   "nbconvert_exporter": "python",
   "pygments_lexer": "ipython3",
   "version": "3.13.1"
  }
 },
 "nbformat": 4,
 "nbformat_minor": 5
}
