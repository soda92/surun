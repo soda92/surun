{
 "cells": [
  {
   "cell_type": "markdown",
   "id": "235a3a07",
   "metadata": {},
   "source": [
    "# `.vcxproj` in Visual Studio"
   ]
  },
  {
   "cell_type": "markdown",
   "id": "04583cd0",
   "metadata": {},
   "source": [
    "https://learn.microsoft.com/en-us/cpp/build/reference/vcxproj-file-structure?view=msvc-170"
   ]
  },
  {
   "cell_type": "markdown",
   "id": "43c4c8df",
   "metadata": {},
   "source": [
    "If you intend to maintain your project properties in the IDE, we recommend you only create and modify your .vcxproj projects in the IDE, and avoid manual edits to the files. In most cases, you never need to manually edit the project file. Manual edits may break the project connections required to modify project settings in the Visual Studio property pages, and can cause build errors that are difficult to debug and repair. For more information about using the property pages, see Set C++ compiler and build properties in Visual Studio."
   ]
  },
  {
   "cell_type": "markdown",
   "id": "379881b0",
   "metadata": {},
   "source": []
  }
 ],
 "metadata": {
  "language_info": {
   "name": "python"
  }
 },
 "nbformat": 4,
 "nbformat_minor": 5
}
